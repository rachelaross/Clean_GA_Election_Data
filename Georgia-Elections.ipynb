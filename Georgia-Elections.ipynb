{
 "cells": [
  {
   "cell_type": "code",
   "execution_count": 5,
   "metadata": {},
   "outputs": [],
   "source": [
    "#A Notebook to combine several fixed width files into one CSV for certain elections in Georgia"
   ]
  },
  {
   "cell_type": "code",
   "execution_count": 10,
   "metadata": {},
   "outputs": [],
   "source": [
    "import pandas as pd\n",
    "from pathlib import Path\n",
    "import glob\n",
    "import re\n",
    "import csv\n",
    "from datetime import datetime"
   ]
  },
  {
   "cell_type": "code",
   "execution_count": 11,
   "metadata": {},
   "outputs": [],
   "source": [
    "pathFile = '/Users/radair/Documents/Carolina_Data_Desk/Georgia-Election-Data/Raw-Data/'\n",
    "pathList = Path(pathFile).glob('*.TXT')\n",
    "\n",
    "myCSV = open('Georgia-Election-Data(1).csv', 'w')\n",
    "writer = csv.writer(myCSV, delimiter=',')"
   ]
  },
  {
   "cell_type": "code",
   "execution_count": 12,
   "metadata": {},
   "outputs": [],
   "source": [
    "headers = [\"COUNTY_NUMBER\",\"REGISTRATION_NUMBER\",\"ELECTION_DATE\"\n",
    "           ,\"ELECTION_TYPE\",\"PARTY\",\"ABSENTEE\",\"PROVISIONAL\",\"SUPPLEMENTAL\",\"UNIQUE_ID\"]\n",
    "writer.writerow(headers)\n",
    "\n",
    "#given on the website from where the data came\n",
    "widths = [3,8,8,3,2,1,1,1]\n",
    "\n",
    "#dates in raw data written as yyyymmdd\n",
    "dateList = ['20180821', '20180522', '20180724', '20160726', '20160524', '20140722', '20140520']"
   ]
  },
  {
   "cell_type": "code",
   "execution_count": 13,
   "metadata": {},
   "outputs": [
    {
     "name": "stdout",
     "output_type": "stream",
     "text": [
      "/Users/radair/Documents/Carolina_Data_Desk/Georgia-Election-Data/Raw-Data/2016.TXT\n",
      "/Users/radair/Documents/Carolina_Data_Desk/Georgia-Election-Data/Raw-Data/2014.TXT\n",
      "/Users/radair/Documents/Carolina_Data_Desk/Georgia-Election-Data/Raw-Data/2018.TXT\n"
     ]
    }
   ],
   "source": [
    "for path in pathList:\n",
    "    data = open(str(path), 'r')\n",
    "    for line in data.readlines():\n",
    "        if line[11:19] in dateList:\n",
    "            infoBits = []\n",
    "            place = 0\n",
    "            \n",
    "            for item in widths:\n",
    "                infoBits.append(line[place:place+item])\n",
    "                place+=item\n",
    "            \n",
    "            #change the format of the dates from yyyymmdd to mm/dd/yy\n",
    "            infoBits[2] = datetime.strptime(infoBits[2], \"%Y%m%d\").strftime(\"%m/%d/%Y\")\n",
    "            \n",
    "            #change the date format from mm/dd/yy to mmddyyy to make for a cleaner \n",
    "                #looking unique id\n",
    "            idDate = datetime.strptime(infoBits[2], '%m/%d/%Y').strftime('%m%d%Y')\n",
    "            \n",
    "            #the reporter requested I create this field \n",
    "            uniqueID = infoBits[0] + infoBits[1] + str(idDate)\n",
    "            \n",
    "            infoBits.append(uniqueID)\n",
    "            \n",
    "            newRow = []\n",
    "            for item in infoBits:\n",
    "                item = item.strip()\n",
    "                newRow.append(item)\n",
    "            \n",
    "            writer.writerow(newRow)\n",
    "    "
   ]
  },
  {
   "cell_type": "code",
   "execution_count": 14,
   "metadata": {},
   "outputs": [],
   "source": [
    "myCSV.close()"
   ]
  },
  {
   "cell_type": "code",
   "execution_count": null,
   "metadata": {},
   "outputs": [],
   "source": []
  }
 ],
 "metadata": {
  "kernelspec": {
   "display_name": "Python 3",
   "language": "python",
   "name": "python3"
  },
  "language_info": {
   "codemirror_mode": {
    "name": "ipython",
    "version": 3
   },
   "file_extension": ".py",
   "mimetype": "text/x-python",
   "name": "python",
   "nbconvert_exporter": "python",
   "pygments_lexer": "ipython3",
   "version": "3.6.4"
  }
 },
 "nbformat": 4,
 "nbformat_minor": 2
}
